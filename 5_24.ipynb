{
  "nbformat": 4,
  "nbformat_minor": 0,
  "metadata": {
    "colab": {
      "provenance": [],
      "authorship_tag": "ABX9TyPpagKlrV3Db6V3voYDTTJa",
      "include_colab_link": true
    },
    "kernelspec": {
      "name": "python3",
      "display_name": "Python 3"
    },
    "language_info": {
      "name": "python"
    }
  },
  "cells": [
    {
      "cell_type": "markdown",
      "metadata": {
        "id": "view-in-github",
        "colab_type": "text"
      },
      "source": [
        "<a href=\"https://colab.research.google.com/github/seyeon1202/osmnx/blob/main/5_24.ipynb\" target=\"_parent\"><img src=\"https://colab.research.google.com/assets/colab-badge.svg\" alt=\"Open In Colab\"/></a>"
      ]
    },
    {
      "cell_type": "code",
      "execution_count": null,
      "metadata": {
        "colab": {
          "base_uri": "https://localhost:8080/"
        },
        "id": "h1965huXQSvL",
        "outputId": "79fd92bf-c7df-4040-a34f-be340c467ccd"
      },
      "outputs": [
        {
          "output_type": "stream",
          "name": "stdout",
          "text": [
            "HELLO\n",
            "HELLO\n"
          ]
        }
      ],
      "source": [
        "def shout(text):\n",
        "  return text.upper()\n",
        "print(shout('Hello'))\n",
        "yell = shout\n",
        "print(yell('Hello'))"
      ]
    },
    {
      "cell_type": "code",
      "source": [
        "def shout(text):\n",
        "  return text.upper()\n",
        "def whisper(text):\n",
        "  return text.lower()\n",
        "def greet(func):\n",
        "  greeting = func(\"\"\"Thanks, Sejin\"\"\")\n",
        "  print(greeting)\n",
        "\n",
        "greet(shout)\n",
        "greet(whisper)"
      ],
      "metadata": {
        "colab": {
          "base_uri": "https://localhost:8080/"
        },
        "id": "u5TzdOQ3QnHw",
        "outputId": "f8f29681-2f3f-4630-96da-c2a69b1dda93"
      },
      "execution_count": null,
      "outputs": [
        {
          "output_type": "stream",
          "name": "stdout",
          "text": [
            "THANKS, SEJIN\n",
            "thanks, sejin\n"
          ]
        }
      ]
    },
    {
      "cell_type": "code",
      "source": [
        "def create_adder(x):\n",
        "  print(\"x\",x)\n",
        "  def adder(y):\n",
        "    print(\"y\",y)\n",
        "    return x-y\n",
        "  return adder\n",
        "add_15 = create_adder(15)\n",
        "print(add_15(5))"
      ],
      "metadata": {
        "colab": {
          "base_uri": "https://localhost:8080/"
        },
        "id": "H65xmv2ARALd",
        "outputId": "6212f440-a484-4bd9-ebd5-2fd1474bd9a1"
      },
      "execution_count": null,
      "outputs": [
        {
          "output_type": "stream",
          "name": "stdout",
          "text": [
            "x 15\n",
            "y 5\n",
            "10\n"
          ]
        }
      ]
    },
    {
      "cell_type": "code",
      "source": [],
      "metadata": {
        "id": "l5evSQJaRXyt"
      },
      "execution_count": null,
      "outputs": []
    }
  ]
}